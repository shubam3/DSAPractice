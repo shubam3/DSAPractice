{
 "cells": [
  {
   "cell_type": "markdown",
   "metadata": {},
   "source": [
    "# Input: height = [1,7,2,5,4,7,3,6]\n",
    "# Output: 36\n",
    "\n",
    "# Input: height = [2,2,2]\n",
    "# Output: 4\n"
   ]
  },
  {
   "cell_type": "code",
   "execution_count": null,
   "metadata": {},
   "outputs": [],
   "source": [
    "class Solution:\n",
    "    def maxArea(self, height: List[int]) -> int:\n",
    "        \n",
    "        left = 0  # Initialize the left pointer at the start of the array\n",
    "        right = len(height) - 1  # Initialize the right pointer at the end of the array\n",
    "        max_water = 0  # To store the maximum water that can be contained\n",
    "\n",
    "        while left < right:\n",
    "            # Calculate the width of the current container\n",
    "            width = right - left\n",
    "            # Calculate the area with the current configuration of left and right\n",
    "            current_area = min(height[left], height[right]) * width\n",
    "            \n",
    "            # Update the maximum area found so far\n",
    "            max_water = max(max_water, current_area)\n",
    "\n",
    "            # Move the pointer pointing to the shorter bar inward\n",
    "            if height[left] < height[right]:\n",
    "                left += 1\n",
    "            else:\n",
    "                right -= 1\n",
    "\n",
    "        return max_water"
   ]
  },
  {
   "cell_type": "code",
   "execution_count": null,
   "metadata": {},
   "outputs": [],
   "source": [
    "class Solution:\n",
    "    def maxArea(self, height: List[int]) -> int:\n",
    "        n = len(height)\n",
    "        max_water = 0  # Initialize the maximum area as zero\n",
    "\n",
    "        # Nested loop to check all pairs of bars\n",
    "        for i in range(n):\n",
    "            for j in range(i + 1, n):\n",
    "                # Calculate the current area between bars at index i and j\n",
    "                current_area = min(height[i], height[j]) * (j - i)\n",
    "                # Update the maximum area found\n",
    "                max_water = max(max_water, current_area)\n",
    "\n",
    "        return max_water"
   ]
  }
 ],
 "metadata": {
  "language_info": {
   "name": "python"
  }
 },
 "nbformat": 4,
 "nbformat_minor": 2
}
