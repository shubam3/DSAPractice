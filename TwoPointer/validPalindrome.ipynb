{
 "cells": [
  {
   "cell_type": "code",
   "execution_count": null,
   "metadata": {},
   "outputs": [],
   "source": [
    "import re\n",
    "class Solution:\n",
    "    def isPalindrome(self, s: str) -> bool:\n",
    "     s = re.sub(r'[^a-zA-Z0-9]', '', s).lower()\n",
    "     # Two-pointer approach to check for palindrome\n",
    "     left, right = 0, len(s) - 1\n",
    "    \n",
    "     while left < right:\n",
    "        if s[left] != s[right]:\n",
    "         return False\n",
    "        left += 1\n",
    "        right -= 1\n",
    "    \n",
    "     return True"
   ]
  },
  {
   "cell_type": "code",
   "execution_count": null,
   "metadata": {},
   "outputs": [],
   "source": [
    "# without using extra space o(1) and time o(n)\n",
    "def isPalindrome(s: str) -> bool:\n",
    "    left, right = 0, len(s) - 1\n",
    "    \n",
    "    while left < right:\n",
    "        while left < right and not s[left].isalnum():  # Skip non-alphanumeric left\n",
    "            left += 1\n",
    "        while left < right and not s[right].isalnum():  # Skip non-alphanumeric right\n",
    "            right -= 1\n",
    "        \n",
    "        if s[left].lower() != s[right].lower():  # Compare lowercase characters\n",
    "            return False\n",
    "        \n",
    "        left += 1\n",
    "        right -= 1  # Move both pointers\n",
    "\n",
    "    return True"
   ]
  },
  {
   "cell_type": "code",
   "execution_count": null,
   "metadata": {},
   "outputs": [],
   "source": [
    "# Example Test Cases\n",
    "print(isPalindrome(\"A man, a plan, a canal: Panama\"))  # True\n",
    "print(isPalindrome(\"race a car\"))  # False\n",
    "print(isPalindrome(\" \"))  # True"
   ]
  }
 ],
 "metadata": {
  "language_info": {
   "name": "python"
  }
 },
 "nbformat": 4,
 "nbformat_minor": 2
}
