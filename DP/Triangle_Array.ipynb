{
 "cells": [
  {
   "cell_type": "code",
   "execution_count": 1,
   "metadata": {},
   "outputs": [
    {
     "name": "stdout",
     "output_type": "stream",
     "text": [
      "Bottom-Up DP: 11\n",
      "Top-Down with Memoization: 11\n",
      "Top-Down Tabulation: 11\n",
      "Pure Recursion: 11\n"
     ]
    }
   ],
   "source": [
    "from functools import lru_cache\n",
    "\n",
    "# -------------------------------\n",
    "# 1. Bottom-Up DP (Optimal)\n",
    "def minimumTotal_bottom_up(triangle):\n",
    "    dp = triangle[-1][:]\n",
    "    for row in range(len(triangle) - 2, -1, -1):\n",
    "        for col in range(len(triangle[row])):\n",
    "            dp[col] = triangle[row][col] + min(dp[col], dp[col + 1])\n",
    "    return dp[0]\n",
    "\n",
    "# -------------------------------\n",
    "# 2. Top-Down DP with Memoization\n",
    "def minimumTotal_memo(triangle):\n",
    "    @lru_cache(None)\n",
    "    def dp(i, j):\n",
    "        if i == len(triangle):\n",
    "            return 0\n",
    "        return triangle[i][j] + min(dp(i + 1, j), dp(i + 1, j + 1))\n",
    "    return dp(0, 0)\n",
    "\n",
    "# -------------------------------\n",
    "# 3. Top-Down DP (Tabulation)\n",
    "def minimumTotal_topdown(triangle):\n",
    "    n = len(triangle)\n",
    "    dp = [[0] * len(row) for row in triangle]\n",
    "    dp[0][0] = triangle[0][0]\n",
    "\n",
    "    for i in range(1, n):\n",
    "        for j in range(len(triangle[i])):\n",
    "            if j == 0:\n",
    "                dp[i][j] = dp[i - 1][j] + triangle[i][j]\n",
    "            elif j == i:\n",
    "                dp[i][j] = dp[i - 1][j - 1] + triangle[i][j]\n",
    "            else:\n",
    "                dp[i][j] = min(dp[i - 1][j], dp[i - 1][j - 1]) + triangle[i][j]\n",
    "\n",
    "    return min(dp[-1])\n",
    "\n",
    "# -------------------------------\n",
    "# 4. Pure Recursion (Not Efficient)\n",
    "def minimumTotal_recursive(triangle):\n",
    "    def dfs(i, j):\n",
    "        if i == len(triangle):\n",
    "            return 0\n",
    "        return triangle[i][j] + min(dfs(i + 1, j), dfs(i + 1, j + 1))\n",
    "    return dfs(0, 0)\n",
    "\n",
    "# -------------------------------\n",
    "# Test Case\n",
    "if __name__ == \"__main__\":\n",
    "    triangle = [\n",
    "        [2],\n",
    "        [3, 4],\n",
    "        [6, 5, 7],\n",
    "        [4, 1, 8, 3]\n",
    "    ]\n",
    "\n",
    "    print(\"Bottom-Up DP:\", minimumTotal_bottom_up(triangle))\n",
    "    print(\"Top-Down with Memoization:\", minimumTotal_memo(tuple(map(tuple, triangle))))\n",
    "    print(\"Top-Down Tabulation:\", minimumTotal_topdown(triangle))\n",
    "    print(\"Pure Recursion:\", minimumTotal_recursive(triangle))\n"
   ]
  },
  {
   "cell_type": "markdown",
   "metadata": {},
   "source": [
    "Approach\t    Time Complexity\t Space Complexity\tNotes\n",
    "Bottom-Up DP\t    O(n²)\t    O(n)\t✅ Best for performance\n",
    "Top-Down w/ Memo\tO(n²)\t    O(n²) (due to cache)\tEasy to understand\n",
    "Top-Down Tabulation\tO(n²)\t    O(n²)\tGood clarity, more space\n",
    "Pure Recursion\t     O(2ⁿ)\t    O(n)\t❌ Slow for large input"
   ]
  }
 ],
 "metadata": {
  "kernelspec": {
   "display_name": "base",
   "language": "python",
   "name": "python3"
  },
  "language_info": {
   "codemirror_mode": {
    "name": "ipython",
    "version": 3
   },
   "file_extension": ".py",
   "mimetype": "text/x-python",
   "name": "python",
   "nbconvert_exporter": "python",
   "pygments_lexer": "ipython3",
   "version": "3.12.4"
  }
 },
 "nbformat": 4,
 "nbformat_minor": 2
}
