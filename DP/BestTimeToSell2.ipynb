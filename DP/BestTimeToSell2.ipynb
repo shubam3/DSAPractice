{
 "cells": [
  {
   "cell_type": "code",
   "execution_count": 1,
   "metadata": {},
   "outputs": [
    {
     "name": "stdout",
     "output_type": "stream",
     "text": [
      "Max Profit: 7\n"
     ]
    }
   ],
   "source": [
    "def max_profit(prices):\n",
    "    def helper(i, can_buy):\n",
    "        if i == len(prices):\n",
    "            return 0\n",
    "\n",
    "        if can_buy:\n",
    "            buy = -prices[i] + helper(i + 1, False)\n",
    "            skip = helper(i + 1, True)\n",
    "            return max(buy, skip)\n",
    "        else:\n",
    "            sell = prices[i] + helper(i + 1, True)\n",
    "            skip = helper(i + 1, False)\n",
    "            return max(sell, skip)\n",
    "\n",
    "    return helper(0, True)\n",
    "\n",
    "# Test case\n",
    "print(\"Max Profit:\", max_profit([7, 1, 5, 3, 6, 4]))  # Expected Output: 7\n"
   ]
  },
  {
   "cell_type": "code",
   "execution_count": null,
   "metadata": {},
   "outputs": [],
   "source": [
    "def max_profit(prices):\n",
    "    n = len(prices)\n",
    "    dp = [[-1 for _ in range(2)] for _ in range(n)]\n",
    "\n",
    "    def dfs(i, can_buy):\n",
    "        if i == n:\n",
    "            return 0\n",
    "        if dp[i][can_buy] != -1:\n",
    "            return dp[i][can_buy]\n",
    "\n",
    "        if can_buy:\n",
    "            buy = -prices[i] + dfs(i + 1, 0)\n",
    "            skip = dfs(i + 1, 1)\n",
    "            dp[i][can_buy] = max(buy, skip)\n",
    "        else:\n",
    "            sell = prices[i] + dfs(i + 1, 1)\n",
    "            skip = dfs(i + 1, 0)\n",
    "            dp[i][can_buy] = max(sell, skip)\n",
    "\n",
    "        return dp[i][can_buy]\n",
    "\n",
    "    return dfs(0, 1)\n"
   ]
  },
  {
   "cell_type": "code",
   "execution_count": null,
   "metadata": {},
   "outputs": [],
   "source": [
    "def max_profit(prices):\n",
    "    n = len(prices)\n",
    "    dp = [[0 for _ in range(2)] for _ in range(n + 1)]\n",
    "\n",
    "    for i in range(n - 1, -1, -1):\n",
    "        for can_buy in range(2):\n",
    "            if can_buy:\n",
    "                dp[i][can_buy] = max(-prices[i] + dp[i + 1][0], dp[i + 1][1])\n",
    "            else:\n",
    "                dp[i][can_buy] = max(prices[i] + dp[i + 1][1], dp[i + 1][0])\n",
    "\n",
    "    return dp[0][1]\n"
   ]
  },
  {
   "cell_type": "code",
   "execution_count": null,
   "metadata": {},
   "outputs": [],
   "source": [
    "def maxProfit(prices):\n",
    "    \"\"\"\n",
    "    Function to return the maximum profit you can achieve by buying and selling stocks.\n",
    "    \n",
    "    :param prices: List[int] -> List of stock prices per day\n",
    "    :return: int -> Maximum profit\n",
    "    \"\"\"\n",
    "    # TODO: Implement the dynamic programming approach to solve the problem\n",
    "    # Initialize the maximum profit to 0\n",
    "    max_profit = 0\n",
    "    \n",
    "    # Traverse through the prices starting from the second day\n",
    "    for i in range(1, len(prices)):\n",
    "        # If the price of the current day is higher than the previous day\n",
    "        # Add the difference to the maximum profit (this simulates buying on the previous day and selling today)\n",
    "        if prices[i] > prices[i - 1]:\n",
    "            max_profit += prices[i] - prices[i - 1]\n",
    "    \n",
    "    return max_profit\n"
   ]
  }
 ],
 "metadata": {
  "kernelspec": {
   "display_name": "base",
   "language": "python",
   "name": "python3"
  },
  "language_info": {
   "codemirror_mode": {
    "name": "ipython",
    "version": 3
   },
   "file_extension": ".py",
   "mimetype": "text/x-python",
   "name": "python",
   "nbconvert_exporter": "python",
   "pygments_lexer": "ipython3",
   "version": "3.12.4"
  }
 },
 "nbformat": 4,
 "nbformat_minor": 2
}
