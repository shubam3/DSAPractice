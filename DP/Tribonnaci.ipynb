{
 "cells": [
  {
   "cell_type": "code",
   "execution_count": null,
   "metadata": {},
   "outputs": [],
   "source": [
    "def tribonacci(n):\n",
    "    if n == 0: return 0\n",
    "    if n == 1 or n == 2: return 1\n",
    "    return tribonacci(n-1) + tribonacci(n-2) + tribonacci(n-3)\n"
   ]
  },
  {
   "cell_type": "code",
   "execution_count": null,
   "metadata": {},
   "outputs": [],
   "source": [
    "#✅ 2. Recursive with Memoization (Top-Down DP)\n",
    "\n",
    "def tribonacci(n):\n",
    "    memo = [-1] * (n + 1)\n",
    "\n",
    "    def helper(k):\n",
    "        if k == 0: return 0\n",
    "        if k == 1 or k == 2: return 1\n",
    "        if memo[k] != -1:\n",
    "            return memo[k]\n",
    "        memo[k] = helper(k-1) + helper(k-2) + helper(k-3)\n",
    "        return memo[k]\n",
    "\n",
    "    return helper(n)\n"
   ]
  },
  {
   "cell_type": "code",
   "execution_count": null,
   "metadata": {},
   "outputs": [],
   "source": [
    "#✅ 3. Bottom-Up Tabulation (Iterative DP)\n",
    "\n",
    "def tribonacci(n):\n",
    "    if n == 0: return 0\n",
    "    if n == 1 or n == 2: return 1\n",
    "\n",
    "    dp = [0, 1, 1]\n",
    "    for i in range(3, n + 1):\n",
    "        dp.append(dp[i-1] + dp[i-2] + dp[i-3])\n",
    "    return dp[n]\n"
   ]
  },
  {
   "cell_type": "code",
   "execution_count": null,
   "metadata": {},
   "outputs": [],
   "source": [
    "#Space-Optimized Iterative Solution (Best)\n",
    "def tribonacci(n):\n",
    "    if n == 0: return 0\n",
    "    if n == 1 or n == 2: return 1\n",
    "\n",
    "    a, b, c = 0, 1, 1\n",
    "    for _ in range(3, n + 1):\n",
    "        a, b, c = b, c, a + b + c\n",
    "    return c\n"
   ]
  },
  {
   "cell_type": "code",
   "execution_count": null,
   "metadata": {},
   "outputs": [],
   "source": [
    "def tribonacci(n):\n",
    "    \"\"\"\n",
    "    Function to calculate the nth Tribonacci number using dynamic programming.\n",
    "    \n",
    "    :param n: int -> The index of the Tribonacci sequence\n",
    "    :return: int -> The nth Tribonacci number\n",
    "    \"\"\"\n",
    "    # TODO: Implement the DP approach to compute the nth Tribonacci number\n",
    "     # Base cases for small values of n\n",
    "    if n == 0:\n",
    "        return 0\n",
    "    if n == 1 or n == 2:\n",
    "        return 1\n",
    "    \n",
    "    # Initialize a DP array to store the Tribonacci numbers\n",
    "    dp = [0] * (n + 1)\n",
    "    \n",
    "    # Set the initial values for the first three numbers\n",
    "    dp[0] = 0\n",
    "    dp[1] = 1\n",
    "    dp[2] = 1\n",
    "    \n",
    "    # Fill the DP array iteratively\n",
    "    for i in range(3, n + 1):\n",
    "        dp[i] = dp[i - 1] + dp[i - 2] + dp[i - 3]\n",
    "    \n",
    "    # Return the nth Tribonacci number\n",
    "    return dp[n]\n"
   ]
  }
 ],
 "metadata": {
  "language_info": {
   "name": "python"
  }
 },
 "nbformat": 4,
 "nbformat_minor": 2
}
