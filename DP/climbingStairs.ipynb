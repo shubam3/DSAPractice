{
 "cells": [
  {
   "cell_type": "markdown",
   "metadata": {},
   "source": [
    "Description:\n",
    "You are climbing a staircase. It takes n steps to reach the top. Each time you can either climb 1 step or 2 steps. In how many distinct ways can you climb to the top?\n",
    "\n",
    "Example:\n",
    "\n",
    "Input: n = 2\n",
    "Output: 2\n",
    "Explanation: There are two ways to climb to the top.\n",
    "1. 1 step + 1 step\n",
    "2. 2 steps\n",
    " \n",
    "Input: n = 3\n",
    "Output: 3\n",
    "Explanation: There are three ways to climb to the top.\n",
    "1. 1 step + 1 step + 1 step\n",
    "2. 1 step + 2 steps\n",
    "3. 2 steps + 1 step"
   ]
  },
  {
   "cell_type": "code",
   "execution_count": null,
   "metadata": {},
   "outputs": [],
   "source": [
    "def climbStairs(n):\n",
    "    \"\"\"\n",
    "    Function to calculate the number of distinct ways to climb 'n' steps.\n",
    "    \n",
    "    :param n: int -> Total number of steps\n",
    "    :return: int -> Number of distinct ways to climb to the top\n",
    "    \"\"\"\n",
    "    # TODO: Implement dynamic programming approach to solve the problem.\n",
    "    if n == 1:\n",
    "        return 1\n",
    "    if n == 2:\n",
    "        return 2\n",
    "    \n",
    "    # Initialize DP array to store the number of ways to reach each step\n",
    "    dp = [0] * (n + 1)\n",
    "    \n",
    "    # Base cases: 1 way to reach step 1, 2 ways to reach step 2\n",
    "    dp[1] = 1\n",
    "    dp[2] = 2\n",
    "    \n",
    "    # Fill the DP array iteratively from step 3 to n\n",
    "    for i in range(3, n + 1):\n",
    "        dp[i] = dp[i - 1] + dp[i - 2]\n",
    "    \n",
    "    # Return the number of ways to reach the nth step\n",
    "    return dp[n]\n"
   ]
  },
  {
   "cell_type": "code",
   "execution_count": null,
   "metadata": {},
   "outputs": [],
   "source": [
    "def climb_stairs_recursive(n):\n",
    "    if n <= 1:\n",
    "        return 1\n",
    "    return climb_stairs_recursive(n - 1) + climb_stairs_recursive(n - 2)\n"
   ]
  },
  {
   "cell_type": "code",
   "execution_count": null,
   "metadata": {},
   "outputs": [],
   "source": [
    "# Recursion with Memoization (Top-Down DP)\n",
    "def climb_stairs_memo(n):\n",
    "    memo = [-1] * (n + 1)\n",
    "\n",
    "    def dfs(i):\n",
    "        if i <= 1:\n",
    "            return 1\n",
    "        if memo[i] != -1:\n",
    "            return memo[i]\n",
    "        memo[i] = dfs(i - 1) + dfs(i - 2)\n",
    "        return memo[i]\n",
    "\n",
    "    return dfs(n)\n"
   ]
  },
  {
   "cell_type": "code",
   "execution_count": null,
   "metadata": {},
   "outputs": [],
   "source": [
    "#Bottom-Up Tabulation (DP Array)\n",
    "def climb_stairs_tab(n):\n",
    "    if n <= 1:\n",
    "        return 1\n",
    "\n",
    "    dp = [0] * (n + 1)\n",
    "    dp[0], dp[1] = 1, 1\n",
    "\n",
    "    for i in range(2, n + 1):\n",
    "        dp[i] = dp[i - 1] + dp[i - 2]\n",
    "\n",
    "    return dp[n]\n"
   ]
  },
  {
   "cell_type": "code",
   "execution_count": null,
   "metadata": {},
   "outputs": [],
   "source": [
    "#Space Optimized DP (Fibonacci Style)\n",
    "def climb_stairs_optimized(n):\n",
    "    if n <= 1:\n",
    "        return 1\n",
    "\n",
    "    prev2, prev1 = 1, 1\n",
    "    for _ in range(2, n + 1):\n",
    "        curr = prev1 + prev2\n",
    "        prev2, prev1 = prev1, curr\n",
    "\n",
    "    return prev1\n"
   ]
  },
  {
   "cell_type": "code",
   "execution_count": null,
   "metadata": {},
   "outputs": [],
   "source": [
    "if __name__ == \"__main__\":\n",
    "    n = 5  # You can change this value\n",
    "\n",
    "    print(\"Recursive:\", climb_stairs_recursive(n))\n",
    "    print(\"Memoization:\", climb_stairs_memo(n))\n",
    "    print(\"Tabulation:\", climb_stairs_tab(n))\n",
    "    print(\"Space Optimized:\", climb_stairs_optimized(n))\n"
   ]
  }
 ],
 "metadata": {
  "language_info": {
   "name": "python"
  }
 },
 "nbformat": 4,
 "nbformat_minor": 2
}
