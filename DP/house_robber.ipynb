{
 "cells": [
  {
   "cell_type": "code",
   "execution_count": 1,
   "metadata": {},
   "outputs": [
    {
     "name": "stdout",
     "output_type": "stream",
     "text": [
      "Recursive: 12\n",
      "Memoization: 12\n",
      "DP Tabulation: 12\n",
      "Optimized DP: 12\n"
     ]
    }
   ],
   "source": [
    "# ------------------------------\n",
    "# Recursive (inefficient)\n",
    "def rob_recursive(nums, i=0):\n",
    "    if i >= len(nums):\n",
    "        return 0\n",
    "    return max(rob_recursive(nums, i + 1), nums[i] + rob_recursive(nums, i + 2))\n",
    "\n",
    "# ------------------------------\n",
    "# DP with Memoization\n",
    "from functools import lru_cache\n",
    "def rob_memo(nums):\n",
    "    @lru_cache(None)\n",
    "    def dp(i):\n",
    "        if i >= len(nums):\n",
    "            return 0\n",
    "        return max(dp(i + 1), nums[i] + dp(i + 2))\n",
    "    return dp(0)\n",
    "\n",
    "# ------------------------------\n",
    "# Bottom-Up DP\n",
    "def rob_dp(nums):\n",
    "    if not nums:\n",
    "        return 0\n",
    "    if len(nums) == 1:\n",
    "        return nums[0]\n",
    "    dp = [0] * len(nums)\n",
    "    dp[0] = nums[0]\n",
    "    dp[1] = max(nums[0], nums[1])\n",
    "    for i in range(2, len(nums)):\n",
    "        dp[i] = max(dp[i-1], nums[i] + dp[i-2])\n",
    "    return dp[-1]\n",
    "\n",
    "# ------------------------------\n",
    "# Optimized DP (Space O(1))\n",
    "def rob_optimized(nums):\n",
    "    prev = curr = 0\n",
    "    for num in nums:\n",
    "        prev, curr = curr, max(curr, prev + num)\n",
    "    return curr\n",
    "\n",
    "# ------------------------------\n",
    "# Main block to test all versions\n",
    "if __name__ == \"__main__\":\n",
    "    nums = [2, 7, 9, 3, 1]\n",
    "    print(\"Recursive:\", rob_recursive(nums))\n",
    "    print(\"Memoization:\", rob_memo(nums))\n",
    "    print(\"DP Tabulation:\", rob_dp(nums))\n",
    "    print(\"Optimized DP:\", rob_optimized(nums))\n"
   ]
  }
 ],
 "metadata": {
  "kernelspec": {
   "display_name": "base",
   "language": "python",
   "name": "python3"
  },
  "language_info": {
   "codemirror_mode": {
    "name": "ipython",
    "version": 3
   },
   "file_extension": ".py",
   "mimetype": "text/x-python",
   "name": "python",
   "nbconvert_exporter": "python",
   "pygments_lexer": "ipython3",
   "version": "3.12.4"
  }
 },
 "nbformat": 4,
 "nbformat_minor": 2
}
