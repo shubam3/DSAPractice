{
 "cells": [
  {
   "cell_type": "markdown",
   "metadata": {},
   "source": [
    "Minimum cost to climb stairs\n",
    "Description:\n",
    "You are given an integer array cost where cost[i] is the cost of the i-th step on a staircase. Once you pay the cost, you can either climb one or two steps.\n",
    "\n",
    "You can either start from the step with index 0, or the step with index 1. Return the minimum cost to reach the top of the floor.\n",
    "\n",
    "\n",
    "Example:\n",
    "\n",
    "Input: cost = [10, 15, 20]\n",
    "Output: 15\n",
    "Explanation: You will start at index 1.\n",
    "- Pay 15 and climb two steps to reach the top.\n",
    " \n",
    " \n",
    "Input: cost = [1, 100, 1, 1, 1, 100, 1, 1, 100, 1]\n",
    "Output: 6\n",
    "Explanation: You will start at index 0.\n",
    "- Climb one step to index 2, pay 1.\n",
    "- Climb two steps to index 4, pay 1.\n",
    "- Climb two steps to index 6, pay 1.\n",
    "- Climb one step to index 7, pay 1.\n",
    "- Climb two steps to index 9, pay 1.\n",
    "- Climb one step to reach the top."
   ]
  },
  {
   "cell_type": "code",
   "execution_count": null,
   "metadata": {},
   "outputs": [],
   "source": [
    "def minCostClimbingStairs(cost):\n",
    "    \"\"\"\n",
    "    Function to calculate the minimum cost to reach the top of the staircase.\n",
    "    \n",
    "    :param cost: List[int] -> The cost associated with each step\n",
    "    :return: int -> Minimum cost to reach the top\n",
    "    \"\"\"\n",
    "    # TODO: Implement dynamic programming approach to solve the problem.\n",
    "    n = len(cost)\n",
    "    \n",
    "    # Edge cases for small inputs\n",
    "    if n == 2:\n",
    "        return min(cost[0], cost[1])\n",
    "    \n",
    "    # DP array to store the minimum cost to reach each step\n",
    "    dp = [0] * n\n",
    "    \n",
    "    # Initializing the base cases\n",
    "    dp[0] = cost[0]\n",
    "    dp[1] = cost[1]\n",
    "    \n",
    "    # Fill the DP array iteratively for each step from 2 to n-1\n",
    "    for i in range(2, n):\n",
    "        dp[i] = cost[i] + min(dp[i-1], dp[i-2])\n",
    "    \n",
    "    # The minimum cost to reach the top can come from either the last step or the second last step\n",
    "    return min(dp[n-1], dp[n-2])\n",
    "    "
   ]
  },
  {
   "cell_type": "code",
   "execution_count": null,
   "metadata": {},
   "outputs": [],
   "source": [
    "def min_cost_climbing_stairs_recursive(cost):\n",
    "    def dfs(i):\n",
    "        if i >= len(cost):\n",
    "            return 0\n",
    "        return cost[i] + min(dfs(i + 1), dfs(i + 2))\n",
    "    \n",
    "    return min(dfs(0), dfs(1))\n"
   ]
  },
  {
   "cell_type": "code",
   "execution_count": null,
   "metadata": {},
   "outputs": [],
   "source": [
    "#Memoization (Top-Down DP)\n",
    "def min_cost_climbing_stairs_memo(cost):\n",
    "    n = len(cost)\n",
    "    dp = [-1] * n\n",
    "\n",
    "    def dfs(i):\n",
    "        if i >= n:\n",
    "            return 0\n",
    "        if dp[i] != -1:\n",
    "            return dp[i]\n",
    "        dp[i] = cost[i] + min(dfs(i + 1), dfs(i + 2))\n",
    "        return dp[i]\n",
    "\n",
    "    return min(dfs(0), dfs(1))\n"
   ]
  },
  {
   "cell_type": "code",
   "execution_count": null,
   "metadata": {},
   "outputs": [],
   "source": [
    "#Bottom-Up Tabulation (Iterative DP)\n",
    "def min_cost_climbing_stairs_tab(cost):\n",
    "    n = len(cost)\n",
    "    dp = [0] * (n + 1)  # Extra step for top\n",
    "\n",
    "    for i in range(2, n + 1):\n",
    "        dp[i] = min(dp[i - 1] + cost[i - 1], dp[i - 2] + cost[i - 2])\n",
    "    \n",
    "    return dp[n]\n"
   ]
  },
  {
   "cell_type": "code",
   "execution_count": null,
   "metadata": {},
   "outputs": [],
   "source": [
    "#Space Optimized DP (2 Variables)\n",
    "def min_cost_climbing_stairs_optimized(cost):\n",
    "    prev2, prev1 = 0, 0\n",
    "    for i in range(2, len(cost) + 1):\n",
    "        curr = min(prev1 + cost[i - 1], prev2 + cost[i - 2])\n",
    "        prev2, prev1 = prev1, curr\n",
    "    return prev1\n"
   ]
  },
  {
   "cell_type": "code",
   "execution_count": null,
   "metadata": {},
   "outputs": [],
   "source": [
    "if __name__ == \"__main__\":\n",
    "    cost = [10, 15, 20]  # Change this to test other cases\n",
    "\n",
    "    print(\"Recursive:\", min_cost_climbing_stairs_recursive(cost))\n",
    "    print(\"Memoization:\", min_cost_climbing_stairs_memo(cost))\n",
    "    print(\"Tabulation:\", min_cost_climbing_stairs_tab(cost))\n",
    "    print(\"Space Optimized:\", min_cost_climbing_stairs_optimized(cost))\n"
   ]
  }
 ],
 "metadata": {
  "language_info": {
   "name": "python"
  }
 },
 "nbformat": 4,
 "nbformat_minor": 2
}
