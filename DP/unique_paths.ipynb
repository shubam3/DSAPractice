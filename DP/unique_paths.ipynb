{
 "cells": [
  {
   "cell_type": "markdown",
   "metadata": {},
   "source": [
    "Description:\n",
    "There is a robot on an m x n grid. The robot starts at the top-left corner (i.e., grid[0][0]) and aims to reach the bottom-right corner (i.e., grid[m - 1][n - 1]). The robot can only move either down or right at any point in time.\n",
    "\n",
    "Return Values:\n",
    "\n",
    "int: The number of possible unique paths from the top-left corner to the bottom-right corner\n",
    "\n",
    "Example:\n",
    "\n",
    "Input: m = 3, n = 7 \n",
    "Output: 28 \n",
    "Explanation: There are 28 unique paths from the top-left to the bottom-right corner."
   ]
  },
  {
   "cell_type": "code",
   "execution_count": 1,
   "metadata": {},
   "outputs": [
    {
     "name": "stdout",
     "output_type": "stream",
     "text": [
      "Recursive: 28\n",
      "Memoization: 28\n",
      "Bottom-Up DP: 28\n",
      "Combinatorics: 28\n"
     ]
    }
   ],
   "source": [
    "from functools import lru_cache\n",
    "import math\n",
    "\n",
    "# ----------------------------------------\n",
    "# 1. Pure Recursion (Slow)\n",
    "def uniquePaths_recursive(m, n):\n",
    "    def dfs(i, j):\n",
    "        if i == m - 1 and j == n - 1:\n",
    "            return 1\n",
    "        if i >= m or j >= n:\n",
    "            return 0\n",
    "        return dfs(i + 1, j) + dfs(i, j + 1)\n",
    "    \n",
    "    return dfs(0, 0)\n",
    "\n",
    "# ----------------------------------------\n",
    "# 2. Top-Down DP with Memoization using dictionary\n",
    "def uniquePaths_memo_dict(m, n):\n",
    "    memo = {}\n",
    "\n",
    "    def dp(i, j):\n",
    "        if i == m - 1 and j == n - 1:\n",
    "            return 1\n",
    "        if i >= m or j >= n:\n",
    "            return 0\n",
    "        if (i, j) in memo:\n",
    "            return memo[(i, j)]\n",
    "\n",
    "        memo[(i, j)] = dp(i + 1, j) + dp(i, j + 1)\n",
    "        return memo[(i, j)]\n",
    "\n",
    "    return dp(0, 0)\n",
    "\n",
    "# ----------------------------------------\n",
    "# 3. Bottom-Up DP (Tabulation)\n",
    "def uniquePaths_dp(m, n):\n",
    "    dp = [[1] * n for _ in range(m)]  # first row and first col = 1\n",
    "\n",
    "    for i in range(1, m):\n",
    "        for j in range(1, n):\n",
    "            dp[i][j] = dp[i - 1][j] + dp[i][j - 1]\n",
    "\n",
    "    return dp[m - 1][n - 1]\n",
    "\n",
    "# ----------------------------------------\n",
    "# 4. Combinatorics (Optimal)\n",
    "def uniquePaths_math(m, n):\n",
    "    return math.comb(m + n - 2, m - 1)\n",
    "\n",
    "# ----------------------------------------\n",
    "# Test\n",
    "if __name__ == \"__main__\":\n",
    "    m, n = 3, 7\n",
    "\n",
    "    print(\"Recursive:\", uniquePaths_recursive(m, n))\n",
    "    print(\"Memoization:\", uniquePaths_memo_dict(m, n))\n",
    "    print(\"Bottom-Up DP:\", uniquePaths_dp(m, n))\n",
    "    print(\"Combinatorics:\", uniquePaths_math(m, n))\n"
   ]
  },
  {
   "cell_type": "markdown",
   "metadata": {},
   "source": [
    "| Approach        | Time         | Space    | Best For            |\n",
    "| --------------- | ------------ | -------- | ------------------- |\n",
    "| Recursion       | `O(2^(m+n))` | High     | Learning only       |\n",
    "| Memoization     | `O(m*n)`     | `O(m*n)` | Simple & efficient  |\n",
    "| Bottom-Up DP    | `O(m*n)`     | `O(m*n)` | Most commonly used  |\n",
    "| ✅ Combinatorics | `O(1)`       | `O(1)`   | 🔥 Best performance |\n"
   ]
  }
 ],
 "metadata": {
  "kernelspec": {
   "display_name": "base",
   "language": "python",
   "name": "python3"
  },
  "language_info": {
   "codemirror_mode": {
    "name": "ipython",
    "version": 3
   },
   "file_extension": ".py",
   "mimetype": "text/x-python",
   "name": "python",
   "nbconvert_exporter": "python",
   "pygments_lexer": "ipython3",
   "version": "3.12.4"
  }
 },
 "nbformat": 4,
 "nbformat_minor": 2
}
