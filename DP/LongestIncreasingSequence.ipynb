{
 "cells": [
  {
   "cell_type": "code",
   "execution_count": 1,
   "metadata": {},
   "outputs": [
    {
     "name": "stdout",
     "output_type": "stream",
     "text": [
      "Length of LIS: 4\n"
     ]
    }
   ],
   "source": [
    "def length_of_lis(nums):\n",
    "    \"\"\"\n",
    "    Function to return the length of the longest strictly increasing subsequence using recursion.\n",
    "    \n",
    "    :param nums: List[int] -> List of integers\n",
    "    :return: int -> Length of the longest increasing subsequence\n",
    "    \"\"\"\n",
    "    return lis_recursive(nums, -1, 0)\n",
    "\n",
    "def lis_recursive(nums, prev_index, curr_index):\n",
    "    if curr_index == len(nums):\n",
    "        return 0\n",
    "\n",
    "    # Option 1: Skip current element\n",
    "    not_take = lis_recursive(nums, prev_index, curr_index + 1)\n",
    "\n",
    "    # Option 2: Take current element if it's greater than the previous element\n",
    "    take = 0\n",
    "    if prev_index == -1 or nums[curr_index] > nums[prev_index]:\n",
    "        take = 1 + lis_recursive(nums, curr_index, curr_index + 1)\n",
    "\n",
    "    return max(take, not_take)\n",
    "\n",
    "# Example usage\n",
    "if __name__ == \"__main__\":\n",
    "    nums = [10, 9, 2, 5, 3, 7, 101, 18]\n",
    "    print(\"Length of LIS:\", length_of_lis(nums))\n"
   ]
  },
  {
   "cell_type": "code",
   "execution_count": 2,
   "metadata": {},
   "outputs": [
    {
     "name": "stdout",
     "output_type": "stream",
     "text": [
      "Length of LIS (Memoization): 4\n"
     ]
    }
   ],
   "source": [
    "def length_of_lis(nums):\n",
    "    \"\"\"\n",
    "    Returns the length of the longest strictly increasing subsequence using recursion with memoization.\n",
    "    \"\"\"\n",
    "    n = len(nums)\n",
    "    # dp[prev_index + 1][curr_index]\n",
    "    dp = [[-1] * (n + 1) for _ in range(n)]\n",
    "\n",
    "    def lis_recursive(prev_index, curr_index):\n",
    "        if curr_index == n:\n",
    "            return 0\n",
    "\n",
    "        if dp[prev_index + 1][curr_index] != -1:\n",
    "            return dp[prev_index + 1][curr_index]\n",
    "\n",
    "        not_take = lis_recursive(prev_index, curr_index + 1)\n",
    "        take = 0\n",
    "        if prev_index == -1 or nums[curr_index] > nums[prev_index]:\n",
    "            take = 1 + lis_recursive(curr_index, curr_index + 1)\n",
    "\n",
    "        dp[prev_index + 1][curr_index] = max(take, not_take)\n",
    "        return dp[prev_index + 1][curr_index]\n",
    "\n",
    "    return lis_recursive(-1, 0)\n",
    "\n",
    "# Example usage\n",
    "if __name__ == \"__main__\":\n",
    "    nums = [10, 9, 2, 5, 3, 7, 101, 18]\n",
    "    print(\"Length of LIS (Memoization):\", length_of_lis(nums))\n"
   ]
  },
  {
   "cell_type": "code",
   "execution_count": 3,
   "metadata": {},
   "outputs": [
    {
     "name": "stdout",
     "output_type": "stream",
     "text": [
      "Length of LIS (DP): 4\n"
     ]
    }
   ],
   "source": [
    "def length_of_lis(nums):\n",
    "    \"\"\"\n",
    "    Returns the length of the longest strictly increasing subsequence using bottom-up dynamic programming.\n",
    "    \"\"\"\n",
    "    if not nums:\n",
    "        return 0\n",
    "\n",
    "    n = len(nums)\n",
    "    dp = [1] * n  # Every element is an LIS of at least 1\n",
    "\n",
    "    for i in range(1, n):\n",
    "        for j in range(i):\n",
    "            if nums[i] > nums[j]:\n",
    "                dp[i] = max(dp[i], dp[j] + 1)\n",
    "\n",
    "    return max(dp)\n",
    "\n",
    "# Example usage\n",
    "if __name__ == \"__main__\":\n",
    "    nums = [10, 9, 2, 5, 3, 7, 101, 18]\n",
    "    print(\"Length of LIS (DP):\", length_of_lis(nums))\n"
   ]
  }
 ],
 "metadata": {
  "kernelspec": {
   "display_name": "base",
   "language": "python",
   "name": "python3"
  },
  "language_info": {
   "codemirror_mode": {
    "name": "ipython",
    "version": 3
   },
   "file_extension": ".py",
   "mimetype": "text/x-python",
   "name": "python",
   "nbconvert_exporter": "python",
   "pygments_lexer": "ipython3",
   "version": "3.12.4"
  }
 },
 "nbformat": 4,
 "nbformat_minor": 2
}
