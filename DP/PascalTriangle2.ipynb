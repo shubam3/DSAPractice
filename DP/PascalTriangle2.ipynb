{
 "cells": [
  {
   "cell_type": "markdown",
   "metadata": {},
   "source": [
    "Pascal's Triangle is a triangular array of numbers where each number is the sum of the two numbers directly above it.\n",
    "\n",
    "Row 0:        [1]\n",
    "Row 1:      [1, 1]\n",
    "Row 2:     [1, 2, 1]\n",
    "Row 3:    [1, 3, 3, 1]\n",
    "Row 4:   [1, 4, 6, 4, 1]\n",
    "...\n",
    "\n",
    "The first and last elements of each row are always 1.\n",
    "\n",
    "Each interior element at position j in row i is:\n",
    "\n",
    "triangle[i][j] = triangle[i-1][j-1] + triangle[i-1][j]"
   ]
  },
  {
   "cell_type": "code",
   "execution_count": 2,
   "metadata": {},
   "outputs": [
    {
     "name": "stdout",
     "output_type": "stream",
     "text": [
      "Recursive     : [1, 5, 10, 10, 5, 1]\n",
      "Memoization   : [1, 4, 6, 4, 1]\n",
      "Bottom-Up DP  : [1, 3, 3, 1]\n",
      "Binomial Form : [1, 2, 1]\n"
     ]
    }
   ],
   "source": [
    "# LeetCode 119 – Pascal's Triangle II\n",
    "# All approaches: recursion, memoization, bottom-up, binomial\n",
    "\n",
    "# ✅ 1. Pure Recursion (Inefficient, for learning only)\n",
    "def get_row_recursive(row_index):\n",
    "    def combination(n, k):\n",
    "        if k == 0 or k == n:\n",
    "            return 1\n",
    "        return combination(n - 1, k - 1) + combination(n - 1, k)\n",
    "\n",
    "    return [combination(row_index, k) for k in range(row_index + 1)]\n",
    "\n",
    "\n",
    "# ✅ 2. Memoization (Top-down DP)\n",
    "def get_row_memo(row_index):\n",
    "    memo = {}\n",
    "\n",
    "    def combination(n, k):\n",
    "        if k == 0 or k == n:\n",
    "            return 1\n",
    "        if (n, k) in memo:\n",
    "            return memo[(n, k)]\n",
    "        memo[(n, k)] = combination(n - 1, k - 1) + combination(n - 1, k)\n",
    "        return memo[(n, k)]\n",
    "\n",
    "    return [combination(row_index, k) for k in range(row_index + 1)]\n",
    "\n",
    "\n",
    "# ✅ 3. Bottom-Up DP (In-place Iteration)\n",
    "def get_row_dp(row_index):\n",
    "    row = [1]\n",
    "    for i in range(1, row_index + 1):\n",
    "        row.append(0)\n",
    "        for j in range(i, 0, -1):\n",
    "            row[j] = row[j] + row[j - 1]\n",
    "    return row\n",
    "\n",
    "\n",
    "# ✅ 4. Binomial Coefficient (Optimal, O(n) time & space)\n",
    "def get_row_binomial(row_index):\n",
    "    row = [1]\n",
    "    for k in range(1, row_index + 1):\n",
    "        val = row[-1] * (row_index - k + 1) // k\n",
    "        row.append(val)\n",
    "    return row\n",
    "\n",
    "\n",
    "# 🧪 Test All\n",
    "if __name__ == \"__main__\":\n",
    "    r = 5\n",
    "    t= 4\n",
    "    b = 3\n",
    "    k = 2\n",
    "    print(\"Recursive     :\", get_row_recursive(r))\n",
    "    print(\"Memoization   :\", get_row_memo(t))\n",
    "    print(\"Bottom-Up DP  :\", get_row_dp(b))\n",
    "    print(\"Binomial Form :\", get_row_binomial(k))\n"
   ]
  },
  {
   "cell_type": "code",
   "execution_count": null,
   "metadata": {},
   "outputs": [],
   "source": [
    "def getRow(rowIndex):\n",
    "    \"\"\"\n",
    "    Function to return the rowIndex-th row of Pascal's triangle.\n",
    "    \n",
    "    :param rowIndex: int -> Index of the row to return\n",
    "    :return: List[int] -> The rowIndex-th row of Pascal's triangle\n",
    "    \"\"\"\n",
    "    # TODO: Implement dynamic programming approach to generate Pascal's triangle row.\n",
    "    # Initialize the first row of Pascal's Triangle\n",
    "    row = [1] * (rowIndex + 1)\n",
    "    \n",
    "    # Use dynamic programming to fill in the values\n",
    "    for i in range(2, rowIndex + 1):\n",
    "        # Traverse the row backward to ensure values are updated correctly\n",
    "        for j in range(i - 1, 0, -1):\n",
    "            row[j] += row[j - 1]\n",
    "    \n",
    "    return row"
   ]
  }
 ],
 "metadata": {
  "kernelspec": {
   "display_name": "base",
   "language": "python",
   "name": "python3"
  },
  "language_info": {
   "codemirror_mode": {
    "name": "ipython",
    "version": 3
   },
   "file_extension": ".py",
   "mimetype": "text/x-python",
   "name": "python",
   "nbconvert_exporter": "python",
   "pygments_lexer": "ipython3",
   "version": "3.12.4"
  }
 },
 "nbformat": 4,
 "nbformat_minor": 2
}
