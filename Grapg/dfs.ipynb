{
 "cells": [
  {
   "cell_type": "code",
   "execution_count": null,
   "metadata": {},
   "outputs": [],
   "source": [
    "class Solution:\n",
    "    \n",
    "    # Function to return a list containing the DFS traversal of the graph.\n",
    "    def dfs(self, adj):\n",
    "        # 'adj' is the adjacency list of the graph\n",
    "        # Example: adj[0] = [2, 3] means node 0 is connected to nodes 2 and 3\n",
    "        \n",
    "        visited = set()   # to keep track of visited nodes\n",
    "        ans = []          # to store DFS traversal order\n",
    "        \n",
    "        # Recursive DFS helper function\n",
    "        def helper(node):\n",
    "            visited.add(node)   # mark the current node as visited\n",
    "            ans.append(node)    # record it in the traversal list\n",
    "            \n",
    "            # explore all neighbors of the current node\n",
    "            for neighbor in adj[node]:\n",
    "                if neighbor not in visited:  # only go to unvisited neighbors\n",
    "                    helper(neighbor)         # recursive DFS call\n",
    "                    \n",
    "        # We loop through all vertices to handle disconnected graphs as well\n",
    "        for i in range(len(adj)):\n",
    "            if i not in visited:\n",
    "                helper(i)\n",
    "                \n",
    "        return ans   # return the full DFS traversal order\n"
   ]
  },
  {
   "cell_type": "code",
   "execution_count": null,
   "metadata": {},
   "outputs": [],
   "source": [
    "class Solution:\n",
    "    def dfs_iterative(self, adj):\n",
    "        n = len(adj)\n",
    "        visited = set()\n",
    "        ans = []\n",
    "\n",
    "        for start in range(n):\n",
    "            if start not in visited:\n",
    "                stack = [start]\n",
    "                while stack:\n",
    "                    node = stack.pop()\n",
    "                    if node not in visited:\n",
    "                        visited.add(node)\n",
    "                        ans.append(node)\n",
    "                        # push neighbors in reverse for left-to-right order\n",
    "                        for neigh in reversed(adj[node]):\n",
    "                            if neigh not in visited:\n",
    "                                stack.append(neigh)\n",
    "\n",
    "        return ans\n"
   ]
  }
 ],
 "metadata": {
  "language_info": {
   "name": "python"
  }
 },
 "nbformat": 4,
 "nbformat_minor": 2
}
